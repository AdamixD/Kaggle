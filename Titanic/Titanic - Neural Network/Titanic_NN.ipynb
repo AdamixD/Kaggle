{
 "cells": [
  {
   "cell_type": "markdown",
   "source": [
    "# Titanic - Machine Learning from Disaster"
   ],
   "metadata": {
    "collapsed": false,
    "pycharm": {
     "name": "#%% md\n"
    }
   }
  },
  {
   "cell_type": "markdown",
   "source": [
    "## 1 - Imports"
   ],
   "metadata": {
    "collapsed": false,
    "pycharm": {
     "name": "#%% md\n"
    }
   }
  },
  {
   "cell_type": "code",
   "execution_count": 172,
   "outputs": [],
   "source": [
    "import numpy as np\n",
    "import pandas as pd\n",
    "import tensorflow as tf\n",
    "from utils import *"
   ],
   "metadata": {
    "collapsed": false,
    "pycharm": {
     "name": "#%%\n"
    }
   }
  },
  {
   "cell_type": "markdown",
   "source": [
    "## 2 - Data"
   ],
   "metadata": {
    "collapsed": false,
    "pycharm": {
     "name": "#%% md\n"
    }
   }
  },
  {
   "cell_type": "markdown",
   "source": [
    "#### 2.1 Importing data"
   ],
   "metadata": {
    "collapsed": false,
    "pycharm": {
     "name": "#%% md\n"
    }
   }
  },
  {
   "cell_type": "code",
   "execution_count": 173,
   "outputs": [],
   "source": [
    "train_data = pd.read_csv ('./data/train.csv')\n",
    "test_data = pd.read_csv ('./data/test.csv')\n",
    "y_test = pd.read_csv ('./data/gender_submission.csv')"
   ],
   "metadata": {
    "collapsed": false,
    "pycharm": {
     "name": "#%%\n"
    }
   }
  },
  {
   "cell_type": "markdown",
   "source": [
    "#### 2.2 Data repairing"
   ],
   "metadata": {
    "collapsed": false,
    "pycharm": {
     "name": "#%% md\n"
    }
   }
  },
  {
   "cell_type": "code",
   "execution_count": 174,
   "outputs": [],
   "source": [
    "train_data = repair_data(train_data)\n",
    "test_data = repair_data(test_data)"
   ],
   "metadata": {
    "collapsed": false,
    "pycharm": {
     "name": "#%%\n"
    }
   }
  },
  {
   "cell_type": "markdown",
   "source": [
    "#### 2.3 Adding new features\n"
   ],
   "metadata": {
    "collapsed": false,
    "pycharm": {
     "name": "#%% md\n"
    }
   }
  },
  {
   "cell_type": "markdown",
   "source": [
    "<b>2.3.1 Family Members<b/>"
   ],
   "metadata": {
    "collapsed": false,
    "pycharm": {
     "name": "#%% md\n"
    }
   }
  },
  {
   "cell_type": "code",
   "execution_count": 175,
   "outputs": [],
   "source": [
    "train_data = add_new_features(train_data)\n",
    "test_data = add_new_features(test_data)"
   ],
   "metadata": {
    "collapsed": false,
    "pycharm": {
     "name": "#%%\n"
    }
   }
  },
  {
   "cell_type": "markdown",
   "source": [
    "#### 2.4 Convering categorical data into numerical data"
   ],
   "metadata": {
    "collapsed": false,
    "pycharm": {
     "name": "#%% md\n"
    }
   }
  },
  {
   "cell_type": "code",
   "execution_count": 176,
   "outputs": [
    {
     "name": "stderr",
     "output_type": "stream",
     "text": [
      "/Users/adamdabkowski/DataspellProjects/Kaggle/Titanic/utils.py:47: SettingWithCopyWarning: \n",
      "A value is trying to be set on a copy of a slice from a DataFrame.\n",
      "Try using .loc[row_indexer,col_indexer] = value instead\n",
      "\n",
      "See the caveats in the documentation: https://pandas.pydata.org/pandas-docs/stable/user_guide/indexing.html#returning-a-view-versus-a-copy\n",
      "  data[col_name] = pd.factorize(data[col_name])[0]\n"
     ]
    }
   ],
   "source": [
    "labels = [\"Pclass\", \"Sex\", \"Age\", \"SibSp\", \"Parch\", \"Family Members\", \"Not Alone\", \"Fare\"]\n",
    "X_train = convert_cat_to_num(train_data[labels])\n",
    "y_train = train_data[[\"Survived\"]]\n",
    "X_test = convert_cat_to_num(test_data[labels])\n",
    "y_test = y_test[[\"Survived\"]]"
   ],
   "metadata": {
    "collapsed": false,
    "pycharm": {
     "name": "#%%\n"
    }
   }
  },
  {
   "cell_type": "markdown",
   "source": [
    "#### 2.5 Normalization"
   ],
   "metadata": {
    "collapsed": false,
    "pycharm": {
     "name": "#%% md\n"
    }
   }
  },
  {
   "cell_type": "code",
   "execution_count": 177,
   "outputs": [
    {
     "name": "stdout",
     "output_type": "stream",
     "text": [
      "X_train.shape:  (891, 8)\n",
      "y_train.shape:  (891, 1)\n",
      "X_test.shape:  (418, 8)\n",
      "y_test.shape:  (418, 1)\n"
     ]
    }
   ],
   "source": [
    "X_train_z_scaled = X_train.copy()\n",
    "X_test_z_scaled = X_test.copy()\n",
    "\n",
    "for column in X_train_z_scaled.columns:\n",
    "    X_train_z_scaled[column] = (X_train_z_scaled[column] -\n",
    "                                X_train_z_scaled[column].mean()) / X_train_z_scaled[column].std()\n",
    "\n",
    "for column in X_test_z_scaled.columns:\n",
    "    X_test_z_scaled[column] = (X_test_z_scaled[column] -\n",
    "                               X_test_z_scaled[column].mean()) / X_test_z_scaled[column].std()\n",
    "\n",
    "X_train = X_train_z_scaled.to_numpy()\n",
    "y_train = y_train.to_numpy()\n",
    "X_test = X_test_z_scaled.to_numpy()\n",
    "y_test = y_test.to_numpy()\n",
    "\n",
    "print(\"X_train.shape: \", X_train.shape)\n",
    "print(\"y_train.shape: \", y_train.shape)\n",
    "print(\"X_test.shape: \", X_test.shape)\n",
    "print(\"y_test.shape: \", y_test.shape)"
   ],
   "metadata": {
    "collapsed": false,
    "pycharm": {
     "name": "#%%\n"
    }
   }
  },
  {
   "cell_type": "markdown",
   "source": [
    "#### 2.6 Displaying sample variables"
   ],
   "metadata": {
    "collapsed": false,
    "pycharm": {
     "name": "#%% md\n"
    }
   }
  },
  {
   "cell_type": "code",
   "execution_count": 178,
   "outputs": [
    {
     "name": "stdout",
     "output_type": "stream",
     "text": [
      "The first element of X_train is:  [ 0.82691282 -0.73728105 -0.5654189   0.43255043 -0.47340772  0.05912667\n",
      "  1.23095354 -0.50216314]\n"
     ]
    }
   ],
   "source": [
    "print('The first element of X_train is: ', X_train[0])"
   ],
   "metadata": {
    "collapsed": false,
    "pycharm": {
     "name": "#%%\n"
    }
   }
  },
  {
   "cell_type": "code",
   "execution_count": 179,
   "outputs": [
    {
     "name": "stdout",
     "output_type": "stream",
     "text": [
      "The first element of y_train is:  [0]\n"
     ]
    }
   ],
   "source": [
    "print('The first element of y_train is: ', y_train[0])"
   ],
   "metadata": {
    "collapsed": false,
    "pycharm": {
     "name": "#%%\n"
    }
   }
  },
  {
   "cell_type": "code",
   "execution_count": 180,
   "outputs": [
    {
     "name": "stdout",
     "output_type": "stream",
     "text": [
      "The first element of X_test is:  [ 0.87243644 -0.75502418  0.38576877 -0.49887221 -0.39976865 -0.55278019\n",
      " -0.80660628 -0.49681798]\n"
     ]
    }
   ],
   "source": [
    "print('The first element of X_test is: ', X_test[0])"
   ],
   "metadata": {
    "collapsed": false,
    "pycharm": {
     "name": "#%%\n"
    }
   }
  },
  {
   "cell_type": "code",
   "execution_count": 181,
   "outputs": [
    {
     "name": "stdout",
     "output_type": "stream",
     "text": [
      "The first element of y_test is:  [0]\n"
     ]
    }
   ],
   "source": [
    "print('The first element of y_test is: ', y_test[0])"
   ],
   "metadata": {
    "collapsed": false,
    "pycharm": {
     "name": "#%%\n"
    }
   }
  },
  {
   "cell_type": "markdown",
   "source": [
    "## 3 - Model"
   ],
   "metadata": {
    "collapsed": false,
    "pycharm": {
     "name": "#%% md\n"
    }
   }
  },
  {
   "cell_type": "code",
   "execution_count": 182,
   "outputs": [],
   "source": [
    "epochs = 75"
   ],
   "metadata": {
    "collapsed": false,
    "pycharm": {
     "name": "#%%\n"
    }
   }
  },
  {
   "cell_type": "markdown",
   "source": [
    "#### 3.1 Model implementation"
   ],
   "metadata": {
    "collapsed": false,
    "pycharm": {
     "name": "#%% md\n"
    }
   }
  },
  {
   "cell_type": "code",
   "execution_count": 183,
   "outputs": [],
   "source": [
    "model = tf.keras.Sequential(\n",
    "    [\n",
    "        tf.keras.layers.InputLayer((len(labels), )),\n",
    "        tf.keras.layers.Dense(units=200, activation='relu', name='L1'), # small\n",
    "        tf.keras.layers.Dense(units=80, activation='relu', name='L2'),\n",
    "        tf.keras.layers.Dense(units=20, activation='relu', name='L3'),\n",
    "        tf.keras.layers.Dense(units=1, activation='sigmoid', name='L4'),\n",
    "        # tf.keras.layers.Dense(units=340, activation='relu', name='L1'), # big\n",
    "        # tf.keras.layers.Dense(units=280, activation='relu', name='L2'),\n",
    "        # tf.keras.layers.Dense(units=120, activation='relu', name='L3'),\n",
    "        # tf.keras.layers.Dense(units=30, activation='relu', name='L4'),\n",
    "        # tf.keras.layers.Dense(units=1, activation='sigmoid', name='L5'),\n",
    "    ], name='model'\n",
    ")"
   ],
   "metadata": {
    "collapsed": false,
    "pycharm": {
     "name": "#%%\n"
    }
   }
  },
  {
   "cell_type": "code",
   "execution_count": 184,
   "outputs": [
    {
     "name": "stdout",
     "output_type": "stream",
     "text": [
      "Model: \"model\"\n",
      "_________________________________________________________________\n",
      "Layer (type)                 Output Shape              Param #   \n",
      "=================================================================\n",
      "L1 (Dense)                   (None, 200)               1800      \n",
      "_________________________________________________________________\n",
      "L2 (Dense)                   (None, 80)                16080     \n",
      "_________________________________________________________________\n",
      "L3 (Dense)                   (None, 20)                1620      \n",
      "_________________________________________________________________\n",
      "L4 (Dense)                   (None, 1)                 21        \n",
      "=================================================================\n",
      "Total params: 19,521\n",
      "Trainable params: 19,521\n",
      "Non-trainable params: 0\n",
      "_________________________________________________________________\n"
     ]
    }
   ],
   "source": [
    "model.summary()"
   ],
   "metadata": {
    "collapsed": false,
    "pycharm": {
     "name": "#%%\n"
    }
   }
  },
  {
   "cell_type": "code",
   "execution_count": 185,
   "outputs": [],
   "source": [
    "model.compile(\n",
    "    optimizer=tf.keras.optimizers.Adam(learning_rate=7e-5),\n",
    "    loss=tf.keras.losses.BinaryCrossentropy()\n",
    ")\n",
    "# model.compile(loss='binary_crossentropy', optimizer='adam', metrics=['accuracy'])"
   ],
   "metadata": {
    "collapsed": false,
    "pycharm": {
     "name": "#%%\n"
    }
   }
  },
  {
   "cell_type": "markdown",
   "source": [
    "#### 3.2 Model training"
   ],
   "metadata": {
    "collapsed": false,
    "pycharm": {
     "name": "#%% md\n"
    }
   }
  },
  {
   "cell_type": "code",
   "execution_count": 186,
   "outputs": [
    {
     "name": "stdout",
     "output_type": "stream",
     "text": [
      "Train on 891 samples\n",
      "Epoch 1/75\n",
      "891/891 [==============================] - 1s 583us/sample - loss: 0.6841\n",
      "Epoch 2/75\n",
      "891/891 [==============================] - 0s 87us/sample - loss: 0.6438\n",
      "Epoch 3/75\n",
      "891/891 [==============================] - 0s 84us/sample - loss: 0.6122\n",
      "Epoch 4/75\n",
      "891/891 [==============================] - 0s 87us/sample - loss: 0.5801\n",
      "Epoch 5/75\n",
      "891/891 [==============================] - 0s 88us/sample - loss: 0.5521\n",
      "Epoch 6/75\n",
      "891/891 [==============================] - 0s 86us/sample - loss: 0.5284\n",
      "Epoch 7/75\n",
      "891/891 [==============================] - 0s 83us/sample - loss: 0.5078\n",
      "Epoch 8/75\n",
      "891/891 [==============================] - 0s 82us/sample - loss: 0.4902\n",
      "Epoch 9/75\n",
      "891/891 [==============================] - 0s 83us/sample - loss: 0.4756\n",
      "Epoch 10/75\n",
      "891/891 [==============================] - 0s 82us/sample - loss: 0.4633\n",
      "Epoch 11/75\n",
      "891/891 [==============================] - 0s 81us/sample - loss: 0.4538\n",
      "Epoch 12/75\n",
      "891/891 [==============================] - 0s 87us/sample - loss: 0.4460\n",
      "Epoch 13/75\n",
      "891/891 [==============================] - 0s 81us/sample - loss: 0.4399\n",
      "Epoch 14/75\n",
      "891/891 [==============================] - 0s 79us/sample - loss: 0.4351\n",
      "Epoch 15/75\n",
      "891/891 [==============================] - 0s 78us/sample - loss: 0.4312\n",
      "Epoch 16/75\n",
      "891/891 [==============================] - 0s 80us/sample - loss: 0.4278\n",
      "Epoch 17/75\n",
      "891/891 [==============================] - 0s 78us/sample - loss: 0.4250\n",
      "Epoch 18/75\n",
      "891/891 [==============================] - 0s 80us/sample - loss: 0.4234\n",
      "Epoch 19/75\n",
      "891/891 [==============================] - 0s 78us/sample - loss: 0.4215\n",
      "Epoch 20/75\n",
      "891/891 [==============================] - 0s 77us/sample - loss: 0.4195\n",
      "Epoch 21/75\n",
      "891/891 [==============================] - 0s 76us/sample - loss: 0.4171\n",
      "Epoch 22/75\n",
      "891/891 [==============================] - 0s 77us/sample - loss: 0.4159\n",
      "Epoch 23/75\n",
      "891/891 [==============================] - 0s 80us/sample - loss: 0.4147\n",
      "Epoch 24/75\n",
      "891/891 [==============================] - 0s 79us/sample - loss: 0.4132\n",
      "Epoch 25/75\n",
      "891/891 [==============================] - 0s 77us/sample - loss: 0.4127\n",
      "Epoch 26/75\n",
      "891/891 [==============================] - 0s 79us/sample - loss: 0.4114\n",
      "Epoch 27/75\n",
      "891/891 [==============================] - 0s 75us/sample - loss: 0.4109\n",
      "Epoch 28/75\n",
      "891/891 [==============================] - 0s 77us/sample - loss: 0.4098\n",
      "Epoch 29/75\n",
      "891/891 [==============================] - 0s 87us/sample - loss: 0.4084\n",
      "Epoch 30/75\n",
      "891/891 [==============================] - 0s 86us/sample - loss: 0.4077\n",
      "Epoch 31/75\n",
      "891/891 [==============================] - 0s 84us/sample - loss: 0.4072\n",
      "Epoch 32/75\n",
      "891/891 [==============================] - 0s 89us/sample - loss: 0.4063\n",
      "Epoch 33/75\n",
      "891/891 [==============================] - 0s 95us/sample - loss: 0.4055\n",
      "Epoch 34/75\n",
      "891/891 [==============================] - 0s 97us/sample - loss: 0.4050\n",
      "Epoch 35/75\n",
      "891/891 [==============================] - 0s 92us/sample - loss: 0.4045\n",
      "Epoch 36/75\n",
      "891/891 [==============================] - 0s 94us/sample - loss: 0.4037\n",
      "Epoch 37/75\n",
      "891/891 [==============================] - 0s 93us/sample - loss: 0.4043\n",
      "Epoch 38/75\n",
      "891/891 [==============================] - 0s 103us/sample - loss: 0.4025\n",
      "Epoch 39/75\n",
      "891/891 [==============================] - 0s 117us/sample - loss: 0.4022\n",
      "Epoch 40/75\n",
      "891/891 [==============================] - 0s 92us/sample - loss: 0.4021\n",
      "Epoch 41/75\n",
      "891/891 [==============================] - 0s 91us/sample - loss: 0.4012\n",
      "Epoch 42/75\n",
      "891/891 [==============================] - 0s 97us/sample - loss: 0.4008\n",
      "Epoch 43/75\n",
      "891/891 [==============================] - 0s 97us/sample - loss: 0.3999\n",
      "Epoch 44/75\n",
      "891/891 [==============================] - 0s 106us/sample - loss: 0.3996\n",
      "Epoch 45/75\n",
      "891/891 [==============================] - 0s 97us/sample - loss: 0.3992\n",
      "Epoch 46/75\n",
      "891/891 [==============================] - 0s 87us/sample - loss: 0.3986\n",
      "Epoch 47/75\n",
      "891/891 [==============================] - 0s 88us/sample - loss: 0.3982\n",
      "Epoch 48/75\n",
      "891/891 [==============================] - 0s 89us/sample - loss: 0.3982\n",
      "Epoch 49/75\n",
      "891/891 [==============================] - 0s 87us/sample - loss: 0.3972\n",
      "Epoch 50/75\n",
      "891/891 [==============================] - 0s 90us/sample - loss: 0.3968\n",
      "Epoch 51/75\n",
      "891/891 [==============================] - 0s 94us/sample - loss: 0.3964\n",
      "Epoch 52/75\n",
      "891/891 [==============================] - 0s 87us/sample - loss: 0.3965\n",
      "Epoch 53/75\n",
      "891/891 [==============================] - 0s 88us/sample - loss: 0.3958\n",
      "Epoch 54/75\n",
      "891/891 [==============================] - 0s 85us/sample - loss: 0.3954\n",
      "Epoch 55/75\n",
      "891/891 [==============================] - 0s 89us/sample - loss: 0.3952\n",
      "Epoch 56/75\n",
      "891/891 [==============================] - 0s 98us/sample - loss: 0.3949\n",
      "Epoch 57/75\n",
      "891/891 [==============================] - 0s 91us/sample - loss: 0.3941\n",
      "Epoch 58/75\n",
      "891/891 [==============================] - 0s 94us/sample - loss: 0.3944\n",
      "Epoch 59/75\n",
      "891/891 [==============================] - 0s 94us/sample - loss: 0.3937\n",
      "Epoch 60/75\n",
      "891/891 [==============================] - 0s 102us/sample - loss: 0.3933\n",
      "Epoch 61/75\n",
      "891/891 [==============================] - 0s 104us/sample - loss: 0.3929\n",
      "Epoch 62/75\n",
      "891/891 [==============================] - 0s 107us/sample - loss: 0.3926\n",
      "Epoch 63/75\n",
      "891/891 [==============================] - 0s 91us/sample - loss: 0.3926\n",
      "Epoch 64/75\n",
      "891/891 [==============================] - 0s 91us/sample - loss: 0.3918\n",
      "Epoch 65/75\n",
      "891/891 [==============================] - 0s 100us/sample - loss: 0.3915\n",
      "Epoch 66/75\n",
      "891/891 [==============================] - 0s 95us/sample - loss: 0.3916\n",
      "Epoch 67/75\n",
      "891/891 [==============================] - 0s 98us/sample - loss: 0.3909\n",
      "Epoch 68/75\n",
      "891/891 [==============================] - 0s 94us/sample - loss: 0.3905\n",
      "Epoch 69/75\n",
      "891/891 [==============================] - 0s 87us/sample - loss: 0.3901\n",
      "Epoch 70/75\n",
      "891/891 [==============================] - 0s 89us/sample - loss: 0.3897\n",
      "Epoch 71/75\n",
      "891/891 [==============================] - 0s 91us/sample - loss: 0.3896\n",
      "Epoch 72/75\n",
      "891/891 [==============================] - 0s 90us/sample - loss: 0.3892\n",
      "Epoch 73/75\n",
      "891/891 [==============================] - 0s 82us/sample - loss: 0.3891\n",
      "Epoch 74/75\n",
      "891/891 [==============================] - 0s 83us/sample - loss: 0.3883\n",
      "Epoch 75/75\n",
      "891/891 [==============================] - 0s 83us/sample - loss: 0.3886\n"
     ]
    }
   ],
   "source": [
    "history = model.fit(X_train, y_train, epochs=epochs)"
   ],
   "metadata": {
    "collapsed": false,
    "pycharm": {
     "name": "#%%\n"
    }
   }
  },
  {
   "cell_type": "code",
   "execution_count": 187,
   "outputs": [
    {
     "data": {
      "text/plain": "<Figure size 400x400 with 1 Axes>",
      "image/png": "[encoded data removed]"
     },
     "metadata": {},
     "output_type": "display_data"
    }
   ],
   "source": [
    "plt_loss_tf(history)"
   ],
   "metadata": {
    "collapsed": false,
    "pycharm": {
     "name": "#%%\n"
    }
   }
  },
  {
   "cell_type": "markdown",
   "source": [
    "## 4 - Prediction"
   ],
   "metadata": {
    "collapsed": false,
    "pycharm": {
     "name": "#%% md\n"
    }
   }
  },
  {
   "cell_type": "markdown",
   "source": [
    "#### 4.1 Accuracy"
   ],
   "metadata": {
    "collapsed": false,
    "pycharm": {
     "name": "#%% md\n"
    }
   }
  },
  {
   "cell_type": "markdown",
   "source": [
    "<b>4.1.1 Training set</b>"
   ],
   "metadata": {
    "collapsed": false,
    "pycharm": {
     "name": "#%% md\n"
    }
   }
  },
  {
   "cell_type": "code",
   "execution_count": 188,
   "outputs": [
    {
     "name": "stdout",
     "output_type": "stream",
     "text": [
      "Accuracy:  0.8395061728395061\n"
     ]
    }
   ],
   "source": [
    "accuracy_train = compute_accuracy(model, X_train, y_train)"
   ],
   "metadata": {
    "collapsed": false,
    "pycharm": {
     "name": "#%%\n"
    }
   }
  },
  {
   "cell_type": "markdown",
   "source": [
    "<b>4.1.1 Test set</b>"
   ],
   "metadata": {
    "collapsed": false,
    "pycharm": {
     "name": "#%% md\n"
    }
   }
  },
  {
   "cell_type": "code",
   "execution_count": 189,
   "outputs": [
    {
     "name": "stdout",
     "output_type": "stream",
     "text": [
      "Accuracy:  0.9210526315789473\n"
     ]
    }
   ],
   "source": [
    "accuracy_test = compute_accuracy(model, X_test, y_test)"
   ],
   "metadata": {
    "collapsed": false,
    "pycharm": {
     "name": "#%%\n"
    }
   }
  },
  {
   "cell_type": "markdown",
   "source": [
    "## 5 - Saving prediction"
   ],
   "metadata": {
    "collapsed": false,
    "pycharm": {
     "name": "#%% md\n"
    }
   }
  },
  {
   "cell_type": "code",
   "execution_count": 190,
   "outputs": [
    {
     "name": "stdout",
     "output_type": "stream",
     "text": [
      "     PassengerId  Survived\n",
      "0            892         0\n",
      "1            893         0\n",
      "2            894         0\n",
      "3            895         0\n",
      "4            896         0\n",
      "..           ...       ...\n",
      "413         1305         0\n",
      "414         1306         1\n",
      "415         1307         0\n",
      "416         1308         0\n",
      "417         1309         0\n",
      "\n",
      "[418 rows x 2 columns]\n"
     ]
    }
   ],
   "source": [
    "passengerIds = np.arange(892, 1310)\n",
    "prediction = get_clear_prediction(model, X_test).squeeze()\n",
    "prediction = prediction.astype(int)\n",
    "\n",
    "result = pd.DataFrame({\n",
    "    'PassengerId': passengerIds,\n",
    "    'Survived': prediction\n",
    "})\n",
    "\n",
    "print(result)\n",
    "result.to_csv(r'./data/result.csv', index=False)"
   ],
   "metadata": {
    "collapsed": false,
    "pycharm": {
     "name": "#%%\n"
    }
   }
  }
 ],
 "metadata": {
  "kernelspec": {
   "display_name": "Python 3",
   "language": "python",
   "name": "python3"
  },
  "language_info": {
   "codemirror_mode": {
    "name": "ipython",
    "version": 2
   },
   "file_extension": ".py",
   "mimetype": "text/x-python",
   "name": "python",
   "nbconvert_exporter": "python",
   "pygments_lexer": "ipython2",
   "version": "2.7.6"
  }
 },
 "nbformat": 4,
 "nbformat_minor": 0
}